{
 "cells": [
  {
   "cell_type": "code",
   "execution_count": 1,
   "metadata": {},
   "outputs": [],
   "source": [
    "%matplotlib inline\n",
    "import matplotlib.pyplot as plt\n",
    "from IPython.display import clear_output\n",
    "import seaborn as sns\n",
    "sns.set_style('white')"
   ]
  },
  {
   "cell_type": "code",
   "execution_count": 2,
   "metadata": {},
   "outputs": [],
   "source": [
    "import sys\n",
    "sys.path.append('..')\n",
    "\n",
    "\n",
    "import torch\n",
    "import addict\n",
    "import easydict\n",
    "import numpy as np\n",
    "\n",
    "from src.configs import config\n",
    "from src.api import queue_manager as qm\n",
    "from src.api import flask\n",
    "from src.api import redis\n",
    "from src.modules import dataset as ds\n",
    "import src.api.response as rs\n",
    "import src.modules.learner as lrn\n",
    "from src.modules import smooth_tile_predictions as smt\n",
    "import src.utils.preprocess as ps\n",
    "from src.modules import inference\n",
    "\n",
    "%load_ext autoreload\n",
    "%autoreload 2"
   ]
  },
  {
   "cell_type": "code",
   "execution_count": 3,
   "metadata": {},
   "outputs": [
    {
     "name": "stdout",
     "output_type": "stream",
     "text": [
      "Waiting For redisStarter...\n",
      "Permission to start...\n"
     ]
    }
   ],
   "source": [
    "import multiprocessing as mp\n",
    "\n",
    "mp_queue = mp.Queue()\n",
    "r_api = redis.RedisAPI(mp_queue)\n",
    "r_api.check()"
   ]
  },
  {
   "cell_type": "code",
   "execution_count": 4,
   "metadata": {},
   "outputs": [],
   "source": [
    "redis_process = mp.Process(target=r_api.listen)\n",
    "redis_process.start()"
   ]
  },
  {
   "cell_type": "code",
   "execution_count": null,
   "metadata": {},
   "outputs": [],
   "source": [
    "config.SHARED.INIT()"
   ]
  },
  {
   "cell_type": "code",
   "execution_count": null,
   "metadata": {},
   "outputs": [
    {
     "name": "stdout",
     "output_type": "stream",
     "text": [
      "Summed over: weight\n",
      "Overlapped keys: 462\n",
      "MammographyRoI model has been created!\n",
      "Summed over: weight\n",
      "Overlapped keys: 218\n",
      "DensityEstimation model has been created!\n",
      "Summed over: weight\n",
      "Overlapped keys: 218\n",
      "AsymmetryEstimation model has been created!\n",
      "Summed over: weight\n",
      "Overlapped keys: 861\n",
      "MassSegmentation model has been created!\n"
     ]
    }
   ],
   "source": [
    "manager = qm.QueueManager(r_api=r_api, mp_queue=mp_queue)"
   ]
  },
  {
   "cell_type": "code",
   "execution_count": null,
   "metadata": {},
   "outputs": [
    {
     "name": "stdout",
     "output_type": "stream",
     "text": [
      "counter: 1172\n",
      "Check status...\n"
     ]
    }
   ],
   "source": [
    "counter = 0\n",
    "while True:\n",
    "    clear_output(wait=True)\n",
    "    print('counter: {}'.format(counter))\n",
    "    manager.start()\n",
    "    counter += 1"
   ]
  }
 ],
 "metadata": {
  "kernelspec": {
   "display_name": "Python 3",
   "language": "python",
   "name": "python3"
  },
  "language_info": {
   "codemirror_mode": {
    "name": "ipython",
    "version": 3
   },
   "file_extension": ".py",
   "mimetype": "text/x-python",
   "name": "python",
   "nbconvert_exporter": "python",
   "pygments_lexer": "ipython3",
   "version": "3.7.3"
  }
 },
 "nbformat": 4,
 "nbformat_minor": 2
}
